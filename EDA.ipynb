{
 "cells": [
  {
   "cell_type": "code",
   "execution_count": 1,
   "metadata": {},
   "outputs": [],
   "source": [
    "#Cargar todas las librerías\n",
    "import pandas as pd\n",
    "import numpy as np\n",
    "import matplotlib.pyplot as plt\n",
    "import seaborn as sns\n",
    "from scipy import stats as st\n",
    "import streamlit as st  \n"
   ]
  },
  {
   "cell_type": "code",
   "execution_count": 4,
   "metadata": {},
   "outputs": [],
   "source": [
    "car_data = pd.read_csv('vehicles_us.csv') # Leer el archivo CSV"
   ]
  },
  {
   "cell_type": "code",
   "execution_count": 5,
   "metadata": {},
   "outputs": [
    {
     "name": "stderr",
     "output_type": "stream",
     "text": [
      "2025-02-27 21:10:58.674 \n",
      "  \u001b[33m\u001b[1mWarning:\u001b[0m to view this Streamlit app on a browser, run it with the following\n",
      "  command:\n",
      "\n",
      "    streamlit run c:\\ProgramData\\anaconda3\\Lib\\site-packages\\ipykernel_launcher.py [ARGUMENTS]\n"
     ]
    },
    {
     "data": {
      "text/plain": [
       "DeltaGenerator()"
      ]
     },
     "execution_count": 5,
     "metadata": {},
     "output_type": "execute_result"
    }
   ],
   "source": [
    "# Contar los anuncios por modelo\n",
    "top_companies = car_data['model'].value_counts().head(25).reset_index()\n",
    "\n",
    "# Renombrar las columnas\n",
    "top_companies.columns = ['Modelo', 'Cantidad de anuncios']\n",
    "\n",
    "# Mostrar la tabla\n",
    "st.write('Top 25 empresas con más anuncios')\n",
    "st.dataframe(top_companies)"
   ]
  },
  {
   "cell_type": "code",
   "execution_count": 7,
   "metadata": {},
   "outputs": [],
   "source": [
    "import pandas as pd\n",
    "import plotly.express as px\n",
    "import streamlit as st\n",
    "\n",
    "# Leer el archivo CSV\n",
    "car_data = pd.read_csv('vehicles_us.csv')\n",
    "\n",
    "# Título de la app\n",
    "st.title('Análisis Exploratorio de Datos')\n",
    "\n",
    "# Checkbox para mostrar histograma\n",
    "build_histogram = st.checkbox('Construir un histograma')\n",
    "\n",
    "if build_histogram:\n",
    "    st.write('Histograma del odómetro (kilometraje)')\n",
    "    \n",
    "    # Crear histograma\n",
    "    fig = px.histogram(car_data, x=\"odometer\", title='Distribución del Odómetro')\n",
    "    \n",
    "    # Mostrar el gráfico\n",
    "    st.plotly_chart(fig, use_container_width=True)\n"
   ]
  },
  {
   "cell_type": "code",
   "execution_count": 8,
   "metadata": {},
   "outputs": [],
   "source": [
    "# Checkbox para mostrar gráfico de dispersión\n",
    "build_scatter = st.checkbox('Construir gráfico de dispersión')\n",
    "\n",
    "if build_scatter:\n",
    "    st.write('Gráfico de dispersión entre precio y kilometraje')\n",
    "    \n",
    "    # Crear gráfico de dispersión\n",
    "    fig_scatter = px.scatter(car_data, x=\"odometer\", y=\"price\", title='Precio vs Kilometraje', color=\"fuel\")\n",
    "    \n",
    "    # Mostrar el gráfico\n",
    "    st.plotly_chart(fig_scatter, use_container_width=True)\n"
   ]
  },
  {
   "cell_type": "code",
   "execution_count": 9,
   "metadata": {},
   "outputs": [],
   "source": [
    "# Checkbox para gráfico de barras\n",
    "build_bar = st.checkbox('Construir gráfico de barras')\n",
    "\n",
    "if build_bar:\n",
    "    st.write('Cantidad de anuncios por tipo de combustible')\n",
    "    \n",
    "    # Crear gráfico de barras\n",
    "    fig_bar = px.bar(car_data['fuel'].value_counts().reset_index(), \n",
    "                     x='index', y='fuel', \n",
    "                     title='Cantidad de Anuncios por Tipo de Combustible',\n",
    "                     labels={'index': 'Tipo de Combustible', 'fuel': 'Cantidad de Anuncios'},\n",
    "                     color='index')\n",
    "\n",
    "    # Mostrar gráfico\n",
    "    st.plotly_chart(fig_bar, use_container_width=True)\n"
   ]
  },
  {
   "cell_type": "code",
   "execution_count": 10,
   "metadata": {},
   "outputs": [
    {
     "name": "stderr",
     "output_type": "stream",
     "text": [
      "2025-02-27 21:17:16.321 Session state does not function when running a script without `streamlit run`\n"
     ]
    }
   ],
   "source": [
    "# Selector para elegir la marca\n",
    "selected_model = st.selectbox('Selecciona una marca:', car_data['model'].unique())\n",
    "\n",
    "if selected_model:\n",
    "    st.write(f'Precios a través de los años para: {selected_model}')\n",
    "    \n",
    "    # Filtrar los datos por la marca seleccionada\n",
    "    filtered_data = car_data[car_data['model'] == selected_model]\n",
    "    \n",
    "    # Crear gráfico de línea\n",
    "    fig_line = px.line(filtered_data, x='model_year', y='price', \n",
    "                       title=f'Precio a través de los años para {selected_model}',\n",
    "                       labels={'model_year': 'Año del Modelo', 'price': 'Precio'},\n",
    "                       markers=True)\n",
    "    \n",
    "    # Mostrar gráfico\n",
    "    st.plotly_chart(fig_line, use_container_width=True)\n"
   ]
  },
  {
   "cell_type": "code",
   "execution_count": null,
   "metadata": {},
   "outputs": [],
   "source": []
  }
 ],
 "metadata": {
  "kernelspec": {
   "display_name": "base",
   "language": "python",
   "name": "python3"
  },
  "language_info": {
   "codemirror_mode": {
    "name": "ipython",
    "version": 3
   },
   "file_extension": ".py",
   "mimetype": "text/x-python",
   "name": "python",
   "nbconvert_exporter": "python",
   "pygments_lexer": "ipython3",
   "version": "3.12.7"
  }
 },
 "nbformat": 4,
 "nbformat_minor": 2
}
